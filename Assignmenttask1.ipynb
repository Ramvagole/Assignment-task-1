{
 "cells": [
  {
   "cell_type": "code",
   "execution_count": null,
   "id": "fadb031d-1ade-443a-8d07-ebbfa069c950",
   "metadata": {},
   "outputs": [],
   "source": [
    "#Q1):-\n",
    "l=[1,2,3,4, [44,55,66, True], False, (34,56,78,89,34), {1,2,3,3,2,1}, {1:34, \"key2\": [55, 67, 78, 89], 4: (45,22, 61, 34)}, [56, 'data science'], 'Machine Learning']\n",
    "print(\"The original list is:\",l)\n",
    "l1=[]\n",
    "for i in l:\n",
    "    if isinstance(i,list):\n",
    "        for l2 in i:\n",
    "            l1.append(l2)\n",
    "    elif isinstance(i,set):\n",
    "        for l3 in i:\n",
    "            l1.append(l3)\n",
    "    elif isinstance(i,tuple):\n",
    "        for l4 in i:\n",
    "            l1.append(l4)\n",
    "    elif isinstance(i,dict):\n",
    "        d=i\n",
    "        c=list(d.items())\n",
    "        for t in c:\n",
    "                for s in t:\n",
    "                    if type(s)==list:\n",
    "                        for list in s:\n",
    "                             l1.append(list)\n",
    "                    elif type(s)==tuple:\n",
    "                        for tuple in s:\n",
    "                            l1.append(tuple)\n",
    "                    else:\n",
    "                         l1.append(s)\n",
    "    else:\n",
    "        l1.append(i)\n",
    "\n",
    "print(l1)"
   ]
  },
  {
   "cell_type": "code",
   "execution_count": 4,
   "id": "8f8ed5a5-8625-40d1-a9b8-ef8bc4629fec",
   "metadata": {},
   "outputs": [
    {
     "name": "stdout",
     "output_type": "stream",
     "text": [
      "$dzmg$gl$yvxlnv$z$zgz$xrvmgrhg.\n"
     ]
    }
   ],
   "source": [
    "#Q2):-\n",
    "message=\"I want to become a Data Scientist.\"\n",
    "encr_message=\"\"\n",
    "for char in message:\n",
    "    if char==\" \":\n",
    "        encr_message+=\"$\"\n",
    "    elif char.isalpha():\n",
    "        encr_message+=chr(ord(\"a\") + (25 - (ord(char) - ord(\"a\"))))\n",
    "    else:\n",
    "        encr_message+=char\n",
    "print(encr_message)"
   ]
  },
  {
   "cell_type": "code",
   "execution_count": null,
   "id": "0e85ba9f-4739-4f29-9394-37409b0a5e83",
   "metadata": {},
   "outputs": [],
   "source": []
  }
 ],
 "metadata": {
  "kernelspec": {
   "display_name": "Python 3 (ipykernel)",
   "language": "python",
   "name": "python3"
  },
  "language_info": {
   "codemirror_mode": {
    "name": "ipython",
    "version": 3
   },
   "file_extension": ".py",
   "mimetype": "text/x-python",
   "name": "python",
   "nbconvert_exporter": "python",
   "pygments_lexer": "ipython3",
   "version": "3.10.8"
  }
 },
 "nbformat": 4,
 "nbformat_minor": 5
}
